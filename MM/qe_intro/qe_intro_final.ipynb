{
 "cells": [
  {
   "cell_type": "markdown",
   "metadata": {},
   "source": [
    "# Лабораторная работа №2\n",
    "\n",
    "Выполнил студент группы М8О-110M-21 Куликов А. В.\n",
    "\n",
    "#### Постановка задачи\n",
    "Необходимо для кальция (Ca) определить постоянную решётки и энергию когезии и провести идентификацию параметров уравнения состояния Бёрча-Мурнагана на не менее чем девяти точках.\n",
    "\n",
    "#### Метод решения\n",
    "\n",
    "Импортируем необходимые библиотеки"
   ]
  },
  {
   "cell_type": "code",
   "execution_count": 1,
   "metadata": {},
   "outputs": [],
   "source": [
    "import os\n",
    "import shutil\n",
    "import matplotlib.pyplot as plt\n",
    "\n",
    "import subprocess as sps\n",
    "import numpy as np"
   ]
  },
  {
   "cell_type": "markdown",
   "metadata": {},
   "source": [
    "Определяем базовый класс для вычислений с помощью Quantum Espresso. В нем реализуется функциональность для записи конфигурационных файлов, запуска вычислений и кеширования результатов."
   ]
  },
  {
   "cell_type": "code",
   "execution_count": 2,
   "metadata": {},
   "outputs": [],
   "source": [
    "class BaseComputation:\n",
    "    def __init__(self, element_name, ibrav, A, ecutwfc, coef, atomic_weight, k):\n",
    "        self.element_name = element_name\n",
    "        self.ibrav = ibrav\n",
    "        self.A = A\n",
    "        self.ecutwfc = ecutwfc\n",
    "        self.coef = coef\n",
    "        self.atomic_weight = atomic_weight\n",
    "        self.k = k\n",
    "        self.pseudopotential_name = BaseComputation.__pick_appropriate_pseudopotential(element_name)\n",
    "        self.__res_directory_path = None\n",
    "\n",
    "    def result_directory_path(self):\n",
    "        if self.__res_directory_path is None:\n",
    "            self.__res_directory_path = self.result_directory_path_prefix() \\\n",
    "                + f'_launch_{self.element_name}_{self.ibrav}_{self.A}_{self.ecutwfc}_' \\\n",
    "                + f'{self.coef}_{self.atomic_weight}_{self.k}'\n",
    "        \n",
    "        return self.__res_directory_path\n",
    "\n",
    "    def result_directory_path_prefix(self):\n",
    "        raise NotImplementedError\n",
    "\n",
    "    @staticmethod\n",
    "    def __pick_appropriate_pseudopotential(element_name):\n",
    "        pps = os.listdir('/home/alex/QuantumEspresso/sssp/')\n",
    "\n",
    "        for pp in pps:\n",
    "            if pp.startswith(element_name):\n",
    "                return pp\n",
    "\n",
    "        raise Exception(f'Could not pick appropriate pseudopotential for element \"{element_name}\"')\n",
    "\n",
    "    def gen_config(self, out_dir):\n",
    "        raise NotImplementedError\n",
    "\n",
    "    def write_config_file(self, config_file_path, out_dir):\n",
    "        with open(os.path.join(out_dir, config_file_path), 'w') as f:\n",
    "            cfg = self.gen_config(out_dir)\n",
    "            f.write(cfg)\n",
    "\n",
    "    def run_pw(self, out_path, n_jobs):\n",
    "        input_file = os.path.join(self.result_directory_path(), 'pw_in.txt')\n",
    "        if n_jobs == 1:\n",
    "            command = ['pw.x', '-in', input_file]\n",
    "        else:\n",
    "            command = ['mpirun', '--hostfile', 'hostfile', '-np', '8', 'pw.x', '-in', input_file]\n",
    "\n",
    "        print(f'Running: {\" \".join(command)}')\n",
    "\n",
    "        pw_out = sps.check_output(command).decode('utf-8')\n",
    "                \n",
    "        with open(os.path.join(out_path, 'pw_out.txt'), 'w') as logfile:\n",
    "            logfile.writelines(pw_out)\n",
    "\n",
    "        return pw_out.splitlines()\n",
    "\n",
    "    def restore_result(self):\n",
    "            with open(os.path.join(self.result_directory_path(), 'pw_out.txt'), 'r') as logfile:\n",
    "                log = logfile.read().splitlines()\n",
    "                return self.fetch_result_from_log(log)\n",
    "\n",
    "    def restore_if_already_computed(self):\n",
    "        try:\n",
    "            if os.path.isdir(self.result_directory_path()):\n",
    "                result = self.restore_result()\n",
    "                if result is not None:\n",
    "                    return result\n",
    "        except:\n",
    "            shutil.rmtree(self.result_directory_path())\n",
    "        return None\n",
    "\n",
    "    def run(self, verbose=False, n_jobs=1):\n",
    "        result = self.restore_if_already_computed()\n",
    "        if result is not None:\n",
    "            return result\n",
    "\n",
    "        os.mkdir(self.result_directory_path())\n",
    "        self.write_config_file('pw_in.txt', self.result_directory_path())\n",
    "\n",
    "        pw_output = self.run_pw(self.result_directory_path(), n_jobs)\n",
    "\n",
    "        if verbose:\n",
    "            for line in pw_output:\n",
    "                print(line)\n",
    "        \n",
    "        result = self.fetch_result_from_log(pw_output)\n",
    "\n",
    "        if result is None:\n",
    "            raise Exception('Required data not found')\n",
    "\n",
    "        return result\n",
    "\n",
    "    def fetch_result_from_log(self, log):\n",
    "        raise NotImplementedError\n"
   ]
  },
  {
   "cell_type": "markdown",
   "metadata": {},
   "source": [
    "Определяем базовый класс для самосогласованных вычислений. В нем реализуется парсинг результат работы pw.x с целью извлечения рассчитанной общей энергии кристаллической решетки."
   ]
  },
  {
   "cell_type": "code",
   "execution_count": 3,
   "metadata": {},
   "outputs": [],
   "source": [
    "class SCFComputation(BaseComputation):\n",
    "    def __init__(self, element_name, ibrav, A, ecutwfc, coef, atomic_weight, k):\n",
    "        super().__init__(element_name, ibrav, A, ecutwfc, coef, atomic_weight, k)\n",
    "\n",
    "    def gen_config(self, out_dir):\n",
    "        return f\"\"\"&control\n",
    "    calculation = 'scf'\n",
    "    prefix = 'scf'\n",
    "    pseudo_dir = '/home/alex/QuantumEspresso/sssp/'\n",
    "    outdir = '{out_dir}/out/'\n",
    "/\n",
    "&system\n",
    "    ibrav = {self.ibrav}\n",
    "    A = {self.A}\n",
    "    nat = 1\n",
    "    ntyp = 1\n",
    "    ecutwfc = {self.ecutwfc}\n",
    "    ecutrho = {self.coef * self.ecutwfc}\n",
    "/\n",
    "&electrons\n",
    "/\n",
    "ATOMIC_SPECIES\n",
    "    {self.element_name} {self.atomic_weight} {self.pseudopotential_name}\n",
    "ATOMIC_POSITIONS crystal\n",
    "    {self.element_name} 0.0 0.0 0.0\n",
    "K_POINTS automatic\n",
    "    {self.k} {self.k} {self.k} 0 0 0\n",
    "\"\"\"\n",
    "    def fetch_result_from_log(self, log):\n",
    "        for line in log:\n",
    "            if line.startswith('!'):\n",
    "                parts = [part for part in line.split(' ') if len(part) > 0]\n",
    "                return float(parts[4])\n",
    "        return None\n",
    "                "
   ]
  },
  {
   "cell_type": "markdown",
   "metadata": {},
   "source": [
    "Определяем класс для самосогласованных вычислений над полной решеткой."
   ]
  },
  {
   "cell_type": "code",
   "execution_count": 4,
   "metadata": {},
   "outputs": [],
   "source": [
    "class SolidSCFComputation(SCFComputation):\n",
    "    def __init__(self, element_name, ibrav, A, ecutwfc, coef, atomic_weight, k):\n",
    "        super().__init__(element_name, ibrav, A, ecutwfc, coef, atomic_weight, k)\n",
    "\n",
    "    def result_directory_path_prefix(self):\n",
    "        return 'solid_scf'\n",
    "\n",
    "    def gen_config(self, out_dir):\n",
    "        return f\"\"\"&control\n",
    "    calculation = 'scf'\n",
    "    prefix = 'solid'\n",
    "    pseudo_dir = '/home/alex/QuantumEspresso/sssp/'\n",
    "    outdir = '{out_dir}/out/'\n",
    "/\n",
    "&system\n",
    "    ibrav = {self.ibrav}\n",
    "    A = {self.A}\n",
    "    nat = 1\n",
    "    ntyp = 1\n",
    "    ecutwfc = {self.ecutwfc}\n",
    "    ecutrho = {self.coef * self.ecutwfc}\n",
    "/\n",
    "&electrons\n",
    "/\n",
    "ATOMIC_SPECIES\n",
    "    {self.element_name} {self.atomic_weight} {self.pseudopotential_name}\n",
    "ATOMIC_POSITIONS crystal\n",
    "    {self.element_name} 0.0 0.0 0.0\n",
    "K_POINTS automatic\n",
    "    {self.k} {self.k} {self.k} 0 0 0\n",
    "\"\"\""
   ]
  },
  {
   "cell_type": "markdown",
   "metadata": {},
   "source": [
    "Задаем параметры материала для проведения рассчетов"
   ]
  },
  {
   "cell_type": "code",
   "execution_count": 5,
   "metadata": {},
   "outputs": [],
   "source": [
    "element_name = 'Ca'     # элемент кальций (Ca)\n",
    "ibrav = 2               # гранецентричекая кубическая решетка\n",
    "\n",
    "A = 5.5884              # постоянная решетки\n",
    "atomic_weight = 40.078  # атомная масса\n",
    "\n",
    "coef = 8                # коэффициент зависимости энергии отсечения потенциала ecutrho\n",
    "                        # от энергии отсечения для волновых функций ecutwfc"
   ]
  },
  {
   "cell_type": "markdown",
   "metadata": {},
   "source": [
    "Для различных $k$ и $e_{cutwfc}$ рассчитываем полные энергии решетки для определения $k$ и $e_{cutwfc}$, при которых достигается необходимая для дальнейших рассчетов точность вычислений"
   ]
  },
  {
   "cell_type": "code",
   "execution_count": 6,
   "metadata": {},
   "outputs": [],
   "source": [
    "ks = np.array(list(range(4, 12)))\n",
    "ecutwfcs = np.array(list(range(30, 120, 10)))\n",
    "\n",
    "energies = []\n",
    "\n",
    "for k in ks:\n",
    "    energies.append([])\n",
    "    for ecutwfc in ecutwfcs:\n",
    "        c = SolidSCFComputation(element_name, ibrav, A, ecutwfc, coef, atomic_weight, k)\n",
    "        energies[-1].append(c.run(n_jobs=8))\n",
    "\n",
    "energies = np.array(energies)"
   ]
  },
  {
   "cell_type": "markdown",
   "metadata": {},
   "source": [
    "Ищется такая комбинация $k$ и $e_{cutwfc}$, дальнейшее увеличение которых не приводит к сильному изменению (более $3 \\cdot 10^{-5}$) вычисленных полных энергий решетки. Точность $3 \\cdot 10^{-5}$ задается вместо указанной в задании $10^{-3}$, потому что при точности $10^{-3}$ не получалось с достаточной степенью точности рассчитать $C_{44}$ в следующей лабораторной работе."
   ]
  },
  {
   "cell_type": "markdown",
   "metadata": {},
   "source": [
    "Строим графики зависимости энергии от $k$ и $e_{cutwfc}$"
   ]
  },
  {
   "cell_type": "code",
   "execution_count": 7,
   "metadata": {},
   "outputs": [
    {
     "name": "stdout",
     "output_type": "stream",
     "text": [
      "\n"
     ]
    },
    {
     "data": {
      "image/png": "[encoded data removed]",
      "text/plain": [
       "<Figure size 1080x360 with 2 Axes>"
      ]
     },
     "metadata": {
      "needs_background": "light"
     },
     "output_type": "display_data"
    }
   ],
   "source": [
    "fig, (ax1, ax2) = plt.subplots(1, 2, figsize=(15, 5))\n",
    "\n",
    "ax1.plot(ks, energies[:, 4])\n",
    "ax1.set_title('Зависимость энергии от k при фиксированном ecutwfc')\n",
    "ax2.plot(ecutwfcs, energies[3])\n",
    "ax2.set_title('Зависимость энергии от ecutwfc при фиксированном k')\n",
    "\n",
    "plt.tight_layout()\n",
    "print()"
   ]
  },
  {
   "cell_type": "code",
   "execution_count": 8,
   "metadata": {},
   "outputs": [],
   "source": [
    "k=9\n",
    "ecutwfc=100"
   ]
  },
  {
   "cell_type": "markdown",
   "metadata": {},
   "source": [
    "Определяем класс для конфигурации и вызова вычислений с релаксацией решетки с возможностью изменения ячейки. В качестве результата этих вычисления выступает поправочный коэффициент для получения из эталонной постоянной решетки, такой оптимальной постоянной решетки, которая наиболее точно удовлетворяет модели, рассчитываемой в Quantum Espresso при заданном псевдопотенциале. "
   ]
  },
  {
   "cell_type": "code",
   "execution_count": 9,
   "metadata": {},
   "outputs": [],
   "source": [
    "class VCRelaxComputation(BaseComputation):\n",
    "    def __init__(self, element_name, ibrav, A, ecutwfc, coef, atomic_weight, k):\n",
    "        super().__init__(element_name, ibrav, A, ecutwfc, coef, atomic_weight, k)\n",
    "\n",
    "    def result_directory_path_prefix(self):\n",
    "        return 'vc_relax'\n",
    "\n",
    "    def gen_config(self, out_dir):\n",
    "        return f\"\"\"&control\n",
    "    calculation = 'vc-relax'\n",
    "    prefix = 'vc_relax'\n",
    "    pseudo_dir = '/home/alex/QuantumEspresso/sssp/'\n",
    "    outdir = '{out_dir}/out/'\n",
    "/\n",
    "&system\n",
    "    ibrav = {self.ibrav}\n",
    "    A = {self.A}\n",
    "    nat = 1\n",
    "    ntyp = 1\n",
    "    ecutwfc = {self.ecutwfc}\n",
    "    ecutrho = {self.coef * self.ecutwfc}\n",
    "    occupations = 'smearing'\n",
    "    smearing = 'cold'\n",
    "    degauss = 0.02\n",
    "/\n",
    "&electrons\n",
    "    conv_thr = 1.d-8\n",
    "/\n",
    "&ions\n",
    "/\n",
    "&cell\n",
    "/\n",
    "ATOMIC_SPECIES\n",
    "    {self.element_name} {self.atomic_weight} {self.pseudopotential_name}\n",
    "ATOMIC_POSITIONS crystal\n",
    "    {self.element_name} 0.0 0.0 0.0\n",
    "K_POINTS automatic\n",
    "    {self.k} {self.k} {self.k} 0 0 0\n",
    "\"\"\" \n",
    "\n",
    "    def fetch_result_from_log(self, log):\n",
    "        line_index = -1\n",
    "        for i, line in enumerate(reversed(log)):\n",
    "            if line.startswith('CELL_PARAMETERS'):\n",
    "                line_index = len(log) - 1 - i\n",
    "                break\n",
    "\n",
    "        if line_index == -1:\n",
    "            return None\n",
    "\n",
    "        return -float([part for part in log[line_index + 1].split(' ') if len(part) > 0][0]) / (0.5)"
   ]
  },
  {
   "cell_type": "markdown",
   "metadata": {},
   "source": [
    "Вычисление оптимальной постоянной решетки путем релаксирования с возможностью изменения размеров ячейки."
   ]
  },
  {
   "cell_type": "code",
   "execution_count": 10,
   "metadata": {},
   "outputs": [
    {
     "name": "stdout",
     "output_type": "stream",
     "text": [
      "A_coef=0.988031906\n",
      "Постоянная решетки A=5.5215175034904\n"
     ]
    }
   ],
   "source": [
    "c = VCRelaxComputation(element_name, ibrav, A, ecutwfc, coef, atomic_weight, k)\n",
    "\n",
    "A_coef = c.run(n_jobs=8)\n",
    "A = A_coef * A \n",
    "print(f'{A_coef=}')\n",
    "print(f'Постоянная решетки {A=}')"
   ]
  },
  {
   "cell_type": "markdown",
   "metadata": {},
   "source": [
    "Вычисление полной энергии решетки при оптимальной постоянной решетки."
   ]
  },
  {
   "cell_type": "code",
   "execution_count": 11,
   "metadata": {},
   "outputs": [
    {
     "name": "stdout",
     "output_type": "stream",
     "text": [
      "Энергия полной энергии решетки (в Ридбергах): -74.92414029\n"
     ]
    }
   ],
   "source": [
    "c = SolidSCFComputation(element_name, ibrav, A, ecutwfc, coef, atomic_weight, k)\n",
    "e_solid = c.run(n_jobs=8)\n",
    "\n",
    "print(f'Энергия полной энергии решетки (в Ридбергах): {e_solid}')"
   ]
  },
  {
   "cell_type": "markdown",
   "metadata": {},
   "source": [
    "Определяем класс для рассчета энергии изолированного атома. Процесс вычисления энергии изолированного атома оличается от вычисления энергии полной решетки отличается несколькими особенностями:\n",
    "- Необходимо учитывать намагниченность атома. Для учета магнетизации нужно в конфигурационнм файле указать параметры `occupations = 'fixed'`, `nspin = 2` и `tot_magnetization`, равный числу неспаренных электронов на внешних орбиталях атома (для кальция их число равно 0).\n",
    "- Quantum Espresso не предназначен для рассчетов для изолированных атомов, все рассчеты проводятся в бесконечных периодическах кристаллических решетках. Поэтому, чтобы \"сымитрировать\" изолированность атома постоянная решетки задается значительно большей, чем настоящая, например 20 ангстрем.\n",
    "- Также, для ускорения рассчетов, в Quantum Espresso существует специальный тип сетки `gamma` с одной точкой. "
   ]
  },
  {
   "cell_type": "code",
   "execution_count": 12,
   "metadata": {},
   "outputs": [],
   "source": [
    "class IsolatedSCFComputation(SCFComputation):\n",
    "    def __init__(self, element_name, ibrav, A, ecutwfc, coef, atomic_weight, k, total_magnetization):\n",
    "        super().__init__(element_name, ibrav, A, ecutwfc, coef, atomic_weight, k)\n",
    "        self.total_magnetization = total_magnetization\n",
    "\n",
    "    def result_directory_path_prefix(self):\n",
    "        return 'isolated_scf'\n",
    "\n",
    "    def gen_config(self, out_dir):\n",
    "        return f\"\"\"&control\n",
    "    calculation = 'scf'\n",
    "    prefix = 'isolated'\n",
    "    pseudo_dir = '/home/alex/QuantumEspresso/sssp/'\n",
    "    outdir = '{out_dir}/out/'\n",
    "/\n",
    "&system\n",
    "    ibrav = {self.ibrav}\n",
    "    A = {self.A}\n",
    "    nat = 1\n",
    "    ntyp = 1\n",
    "    ecutwfc = {self.ecutwfc}\n",
    "    ecutrho = {self.coef * self.ecutwfc}\n",
    "    occupations = 'fixed'\n",
    "    nspin = 2\n",
    "    tot_magnetization = {self.total_magnetization}\n",
    "/\n",
    "&electrons\n",
    "/\n",
    "ATOMIC_SPECIES\n",
    "    {self.element_name} {self.atomic_weight} {self.pseudopotential_name}\n",
    "ATOMIC_POSITIONS crystal\n",
    "    {self.element_name} 0.0 0.0 0.0\n",
    "K_POINTS gamma\n",
    "\"\"\""
   ]
  },
  {
   "cell_type": "markdown",
   "metadata": {},
   "source": [
    "Производим рассчет энергии изолированного атома"
   ]
  },
  {
   "cell_type": "code",
   "execution_count": 13,
   "metadata": {},
   "outputs": [
    {
     "name": "stdout",
     "output_type": "stream",
     "text": [
      "Энергия изолированного атома (в Ридбергах): -74.78486777\n"
     ]
    }
   ],
   "source": [
    "total_magnetization = 0\n",
    "c = IsolatedSCFComputation(element_name, 1, 20.0, min(ecutwfc, 70), coef, atomic_weight, min(k, 7), total_magnetization)\n",
    "\n",
    "e_isolated = c.run(n_jobs=4)\n",
    "print(f'Энергия изолированного атома (в Ридбергах): {e_isolated}')"
   ]
  },
  {
   "cell_type": "markdown",
   "metadata": {},
   "source": [
    "Вводим вспомогательные функции для перевода между физическими величинами. "
   ]
  },
  {
   "cell_type": "code",
   "execution_count": 14,
   "metadata": {},
   "outputs": [],
   "source": [
    "# Перевод из Ридбергов в электрон-вольты\n",
    "def rydberg_to_electron_volt(e_ry):\n",
    "    return 13.6056980659 * e_ry\n",
    "\n",
    "# Перевод из электрон-вольт в Ридберги \n",
    "def electron_volt_rydberg(e_ev):\n",
    "    return e_ev / 13.6056980659\n",
    "\n",
    "# Перевод из электрон-вольт/ангстрем в гигапаскали \n",
    "def eV_Angstrom_to_GPa(ev_a):\n",
    "    return ev_a * 160.21766208\n",
    "\n",
    "# Перевод из гигапаскалей в электрон-вольт/ангстрем\n",
    "def GPa_to_eV_Angstrom(gpa):\n",
    "    return gpa / 160.21766208"
   ]
  },
  {
   "cell_type": "markdown",
   "metadata": {},
   "source": [
    "Вычисляем энергию когезии (в эВ) как разницу между полной энергией решетки и энергией изолированного атома  "
   ]
  },
  {
   "cell_type": "code",
   "execution_count": 15,
   "metadata": {},
   "outputs": [
    {
     "name": "stdout",
     "output_type": "stream",
     "text": [
      "Когезионная энергия: -1.8948998559969046\n"
     ]
    }
   ],
   "source": [
    "e_coh = rydberg_to_electron_volt(e_solid - e_isolated)\n",
    "print(f'Когезионная энергия: {e_coh}')"
   ]
  },
  {
   "cell_type": "markdown",
   "metadata": {},
   "source": [
    "Определяем класс для проведения самосогласованных вычислений с задаваемым базисом "
   ]
  },
  {
   "cell_type": "code",
   "execution_count": 16,
   "metadata": {},
   "outputs": [],
   "source": [
    "class SolidSCFComputatioBasis(SCFComputation):\n",
    "    def __init__(self, element_name, ibrav, A, ecutwfc, coef, atomic_weight, k, basis):\n",
    "        super().__init__(element_name, ibrav, A, ecutwfc, coef, atomic_weight, k)\n",
    "        self.basis = basis\n",
    "\n",
    "    def get_basis_vec_by_index(self, i):\n",
    "        return f'{self.basis[i][0]} {self.basis[i][1]} {self.basis[i][2]}'\n",
    "\n",
    "    def result_directory_path_prefix(self):\n",
    "        return f'solid_scf_basis_{self.get_basis_vec_by_index(0)}_{self.get_basis_vec_by_index(1)}_' \\\n",
    "            + f'{self.get_basis_vec_by_index(2)}'\n",
    "\n",
    "    def gen_config(self, out_dir):\n",
    "        return f\"\"\"&control\n",
    "    calculation = 'scf'\n",
    "    prefix = 'solid_scf_basis'\n",
    "    pseudo_dir = '/home/alex/QuantumEspresso/sssp/'\n",
    "    outdir = '{out_dir}/out/'\n",
    "/\n",
    "&system\n",
    "    ibrav = {self.ibrav}\n",
    "    A = {self.A}\n",
    "    nat = 1\n",
    "    ntyp = 1\n",
    "    ecutwfc = {self.ecutwfc}\n",
    "    ecutrho = {self.coef * self.ecutwfc}\n",
    "    occupations = 'smearing'\n",
    "    smearing = 'cold'\n",
    "    degauss = 0.02\n",
    "/\n",
    "&electrons\n",
    "    conv_thr = 1.d-8\n",
    "/\n",
    "ATOMIC_SPECIES\n",
    "    {self.element_name} {self.atomic_weight} {self.pseudopotential_name}\n",
    "ATOMIC_POSITIONS crystal\n",
    "    {self.element_name} 0.0 0.0 0.0\n",
    "K_POINTS automatic\n",
    "    {self.k} {self.k} {self.k} 0 0 0\n",
    "CELL_PARAMETERS alat\n",
    "    {self.get_basis_vec_by_index(0)}\n",
    "    {self.get_basis_vec_by_index(1)}\n",
    "    {self.get_basis_vec_by_index(2)}\n",
    "\"\"\""
   ]
  },
  {
   "cell_type": "markdown",
   "metadata": {},
   "source": [
    "Вводим уравение состояния Бёрча-Мурнагана и вспомогательные функции для генерации ограничений грядущей задачи оптимизации"
   ]
  },
  {
   "cell_type": "code",
   "execution_count": 17,
   "metadata": {},
   "outputs": [],
   "source": [
    "from scipy.optimize import curve_fit\n",
    "\n",
    "# базис по-умолчанию, совпадает по смыслу с базисом, испольуемым в Quantum Espresso при ibrav=2\n",
    "default_basis = np.array([[0, 0.5, 0.5], [0.5, 0, 0.5], [0.5, 0.5, 0]])\n",
    "\n",
    "v_coef = 0.25   # т.к. объем примитивной решетки специального вида (которую используем для ускорения вычислений)\n",
    "                # отличается от объема элементарной ГЦК решетки, для вычисления объема будет использован этот \n",
    "                # коэффициент\n",
    "\n",
    "# функция для вычисления объема ячейки\n",
    "def volume(A):\n",
    "    return A ** 3\n",
    "\n",
    "# Уравнение состояния Бёрча-Мурнагана\n",
    "def eos(v, ev0, v0, b0, db0_dp):\n",
    "    eta = (v / v0) ** (1.0 / 3.0)\n",
    "    E = ev0 + 9.0 * b0 * v0 / 16.0 * (eta ** 2 - 1.0) ** 2 * (6.0 + db0_dp * (eta ** 2 - 1.0) - 4.0 * eta ** 2)\n",
    "    return E\n",
    "\n",
    "# вспомогательная функция для отступа от значения на некоторый процент\n",
    "def offset(value, percent):\n",
    "    return (1 + percent / 100) * value"
   ]
  },
  {
   "cell_type": "markdown",
   "metadata": {},
   "source": [
    "Вычисляем значения энергий при разных объемах решетки"
   ]
  },
  {
   "cell_type": "code",
   "execution_count": 18,
   "metadata": {},
   "outputs": [
    {
     "name": "stdout",
     "output_type": "stream",
     "text": [
      "energies=array([-1019.351566  , -1019.37341811, -1019.38991788, -1019.40138762,\n",
      "       -1019.40813673, -1019.41046657, -1019.40866708, -1019.40301908,\n",
      "       -1019.39379006, -1019.38124425, -1019.36562491])\n"
     ]
    }
   ],
   "source": [
    "volumes = []\n",
    "energies = []\n",
    "for i in range(-5, 6):\n",
    "    # постоянная решетки после применения деформации (не передается в качестве постоянной решетки в рассчет, \n",
    "    # т.к. деформация для рассчета достигается изменением длин базисных векторов, а используется \n",
    "    # только для рассчета объема ячейки)\n",
    "    A_cur = offset(A, i)                 \n",
    "    cur_basis = offset(default_basis, i) # базис после применения деформации\n",
    "    c = SolidSCFComputatioBasis(element_name, 0, A, ecutwfc, coef, atomic_weight, k, cur_basis)\n",
    "\n",
    "    energies.append(rydberg_to_electron_volt(c.run(n_jobs=8)))\n",
    "    volumes.append(volume(A_cur) * v_coef)\n",
    "\n",
    "volumes = np.array(volumes)\n",
    "energies = np.array(energies)\n",
    "\n",
    "print(f'{energies=}')"
   ]
  },
  {
   "cell_type": "markdown",
   "metadata": {},
   "source": [
    "Производим фиттинг уравнения состояния по ранее рассчитанным значениям энергий"
   ]
  },
  {
   "cell_type": "code",
   "execution_count": 19,
   "metadata": {},
   "outputs": [
    {
     "name": "stdout",
     "output_type": "stream",
     "text": [
      "Оптимальные параметры: E_0: -1019.4105729896634, V_0: 42.150546460505495, B_0: 17.6861623362929, dB_0/dP: 0.7314273850047358\n"
     ]
    }
   ],
   "source": [
    "### 1-й способ ###\n",
    "ev0_offset_percentage = 5\n",
    "v0_offset_percentage = 5\n",
    "b0_offset_percentage = 50\n",
    "\n",
    "b0_ref = GPa_to_eV_Angstrom(17)\n",
    "\n",
    "lower_bound = np.array([offset(rydberg_to_electron_volt(e_solid), ev0_offset_percentage),\n",
    "                        offset(volume(A) * v_coef, -v0_offset_percentage),\n",
    "                        offset(b0_ref, -b0_offset_percentage),\n",
    "                        -np.inf])\n",
    "\n",
    "upper_bound = np.array([offset(rydberg_to_electron_volt(e_solid), -ev0_offset_percentage),\n",
    "                        offset(volume(A) * v_coef, v0_offset_percentage),\n",
    "                        offset(b0_ref, b0_offset_percentage),\n",
    "                        np.inf])\n",
    "\n",
    "bounds = lower_bound, upper_bound\n",
    "\n",
    "p0 = np.concatenate([(lower_bound[:-1] + upper_bound[:-1]) / 2, np.array([0])])\n",
    "\n",
    "popt, pcov = curve_fit(eos, volumes, energies, p0=p0, method='trf', bounds=bounds, maxfev=10000)\n",
    "\n",
    "######\n",
    "\n",
    "### 2-й способ ###\n",
    "# В первом приближении фитим простую параболу\n",
    "# a, b, c = np.polyfit(volumes, energies, 2)\n",
    "\n",
    "# Затем вычисляем приближенные значения основных параметров для настоящего уравнения состояния Бёрча-Мурнагана.\n",
    "# V0 = -b/(2*a)\n",
    "# E0 = a*V0**2 + b*V0 + c\n",
    "# B0 = 2*a* V0\n",
    "# Bp = 4.0\n",
    "\n",
    "# Используя вычисленные начальные приближения параметров в качестве стартовой точки для оптимизации\n",
    "# p0 = np.array([E0, V0, B0, Bp])\n",
    "\n",
    "# проводим фиттинг уравнения состояния Бёрча-Мурнагана.\n",
    "# popt, pcov = curve_fit(eos, volumes, energies, p0=p0)\n",
    "\n",
    "######\n",
    "\n",
    "# получаем рассчитанные оптимальные параметры уравнения состояния\n",
    "ev0, v_temp, b0_temp, db0_dp = popt\n",
    "\n",
    "# на основе оптимальных параметров, с учетом нестандартной решетки, применяемой для рассчетов, \n",
    "# получаем истинные значения балк-модуля (в ГПа) и равновесного объема  \n",
    "b0 = eV_Angstrom_to_GPa(b0_temp)\n",
    "\n",
    "print(f'Оптимальные параметры: E_0: {ev0}, V_0: {v_temp}, B_0: {b0}, dB_0/dP: {db0_dp}')"
   ]
  },
  {
   "cell_type": "markdown",
   "metadata": {},
   "source": [
    "В результате фиттинга уравнения состояния получаем для него следующие значения оптимальных параметров:\n",
    "\n",
    " | Параметр | Значение |\n",
    "|-|-|\n",
    " | $E_{0}$ | -1019.4169692447616 |\n",
    " | $V_{0}$ | 42.13615169019406 |\n",
    " | $B_{0}$ | 17.758934871924936 |\n",
    " | $\\frac{\\partial B_{0}}{\\partial P}$ | 0.6590151000408409 |\n",
    "\n",
    "Полученное значение балк-модуля $B_{0}$ близко к справочному, поэтому можно утверждать, что фиттинг уравнения состояния проведен верно. "
   ]
  },
  {
   "cell_type": "markdown",
   "metadata": {},
   "source": [
    "Строим график уравнения состояния с вычисленными оптимальными параметрами"
   ]
  },
  {
   "cell_type": "code",
   "execution_count": 20,
   "metadata": {},
   "outputs": [
    {
     "name": "stdout",
     "output_type": "stream",
     "text": [
      "\n"
     ]
    },
    {
     "data": {
      "image/png": "[encoded data removed]",
      "text/plain": [
       "<Figure size 864x720 with 1 Axes>"
      ]
     },
     "metadata": {
      "needs_background": "light"
     },
     "output_type": "display_data"
    }
   ],
   "source": [
    "fig, ax = plt.subplots(figsize=(12, 10))\n",
    "\n",
    "# Строим точки рассчитанной зависимости полной энергии решетки от объема ячейки\n",
    "ax.plot(volumes, energies, 'b.')\n",
    "\n",
    "v = np.linspace(min(volumes), max(volumes), 100)\n",
    "e = eos(v, ev0, v_temp, b0_temp, db0_dp)\n",
    "\n",
    "# Строим график уравнение состояния после фиттинга\n",
    "ax.plot(v, e, 'r-')\n",
    "print()"
   ]
  },
  {
   "cell_type": "markdown",
   "metadata": {},
   "source": [
    "#### Выводы\n",
    "В ходе выполнения данной лабораторной работы для кальция (Ca) были определены постоянная решётки и энергия когезии. Так же была проведена идентификация параметров уравнения состояния Бёрча-Мурнагана на не менее чем девяти точках."
   ]
  },
  {
   "cell_type": "markdown",
   "metadata": {},
   "source": [
    "# Лабораторная работа №3\n",
    "Выполнил студент группы М8О-110M-21 Куликов А. В."
   ]
  },
  {
   "cell_type": "markdown",
   "metadata": {},
   "source": [
    "#### Постановка задачи\n",
    "\n",
    "Для кальция (Ca) вычислить модуль объёмной упругости $B$ и константы упругости $С_{11}$, $С_{22}$, $С_{33}$, $С_{44}$, $С_{55}$, $С_{66}$, $С_{12}$, $С_{13}$, $С_{23}$."
   ]
  },
  {
   "cell_type": "markdown",
   "metadata": {},
   "source": [
    "#### Метод решения\n"
   ]
  },
  {
   "cell_type": "markdown",
   "metadata": {},
   "source": [
    "Определяем функции для генерации матриц деформаций для рассчета констант упругости"
   ]
  },
  {
   "cell_type": "code",
   "execution_count": 21,
   "metadata": {},
   "outputs": [],
   "source": [
    "# Матрица деформаций для вычисления балк-модуля\n",
    "def DB_mat(alpha):\n",
    "    q = 1 + alpha\n",
    "    return np.array([[q, 0, 0],\n",
    "                     [0, q, 0], \n",
    "                     [0, 0, q]])\n",
    "\n",
    "# Матрица деформаций для вычисления С11\n",
    "def DC11_mat(alpha):\n",
    "    q = 1 + alpha\n",
    "    return np.array([[q, 0, 0],\n",
    "                     [0, 1, 0],\n",
    "                     [0, 0, 1]])\n",
    "\n",
    "# Матрица деформаций для вычисления С22\n",
    "def DC22_mat(alpha):\n",
    "    q = 1 + alpha\n",
    "    return np.array([[1, 0, 0],\n",
    "                     [0, q, 0],\n",
    "                     [0, 0, 1]])\n",
    "\n",
    "# Матрица деформаций для вычисления С33\n",
    "def DC33_mat(alpha):\n",
    "    q = 1 + alpha\n",
    "    return np.array([[1, 0, 0], \n",
    "                     [0, 1, 0],\n",
    "                     [0, 0, q]])"
   ]
  },
  {
   "cell_type": "code",
   "execution_count": 22,
   "metadata": {},
   "outputs": [],
   "source": [
    "# Матрица деформаций для вычисления С44\n",
    "def DC44_mat(alpha):\n",
    "    q = 1 / (1 - alpha ** 2) ** (1 / 3)\n",
    "    aq = alpha * q\n",
    "    return np.array([[q, 0, 0],\n",
    "                     [0, q, aq], \n",
    "                     [0, aq, q]])\n",
    "\n",
    "# Матрица деформаций для вычисления С55\n",
    "def DC55_mat(alpha):\n",
    "    q = 1 / (1 - alpha ** 2) ** (1 / 3)\n",
    "    aq = alpha * q\n",
    "    return np.array([[q, 0, aq], \n",
    "                     [0, q, 0], \n",
    "                     [aq, 0, q]])\n",
    "\n",
    "# Матрица деформаций для вычисления С66\n",
    "def DC66_mat(alpha):\n",
    "    q = 1 / (1 - alpha ** 2) ** (1 / 3)\n",
    "    aq = alpha * q\n",
    "    return np.array([[q, aq, 0],\n",
    "                     [aq, q, 0],\n",
    "                     [0, 0, q]])\n"
   ]
  },
  {
   "cell_type": "code",
   "execution_count": 23,
   "metadata": {},
   "outputs": [],
   "source": [
    "# Матрица деформаций для вычисления С12\n",
    "def DC12_mat(alpha):\n",
    "    q = 1 / (1 - alpha ** 2) ** (1 / 3)\n",
    "    qp = (1 + alpha) / (1 - alpha ** 2) ** (1 / 3)\n",
    "    qm = (1 - alpha) / (1 - alpha ** 2) ** (1 / 3)\n",
    "    return np.array([[qp, 0, 0], \n",
    "                     [0, qm, 0],\n",
    "                     [0, 0, q]])\n",
    "\n",
    "# Матрица деформаций для вычисления С13\n",
    "def DC13_mat(alpha):\n",
    "    q = 1 / (1 - alpha ** 2) ** (1 / 3)\n",
    "    qp = (1 + alpha) / (1 - alpha ** 2) ** (1 / 3)\n",
    "    qm = (1 - alpha) / (1 - alpha ** 2) ** (1 / 3)\n",
    "    return np.array([[qp, 0, 0],\n",
    "                     [0, q, 0],\n",
    "                     [0, 0, qm]])\n",
    "\n",
    "# Матрица деформаций для вычисления С23\n",
    "def DC23_mat(alpha):\n",
    "    q = 1 / (1 - alpha ** 2) ** (1 / 3)\n",
    "    qp = (1 + alpha) / (1 - alpha ** 2) ** (1 / 3)\n",
    "    qm = (1 - alpha) / (1 - alpha ** 2) ** (1 / 3)\n",
    "    return np.array([[q, 0, 0],\n",
    "                     [0, qp, 0],\n",
    "                     [0, 0, qm]])"
   ]
  },
  {
   "cell_type": "markdown",
   "metadata": {},
   "source": [
    "Определяем функцию для численного рассчета второй производной некоторой функции"
   ]
  },
  {
   "cell_type": "code",
   "execution_count": 24,
   "metadata": {},
   "outputs": [],
   "source": [
    "def deriv2(x, func, h=0.01):\n",
    "    fp = func(x + h)\n",
    "    f = func(x)\n",
    "    fm = func(x - h)\n",
    "\n",
    "    return (fp - 2 * f + fm) / (h * h)"
   ]
  },
  {
   "cell_type": "markdown",
   "metadata": {},
   "source": [
    "Определяем класс для вычисления констант упругости. В нем реализованы методы дял вычисления всех констант упругости + балк-модуля при помощи вычисления второй производной полной энергии решетки, деформированной при помощи соответствующих матриц деформации."
   ]
  },
  {
   "cell_type": "code",
   "execution_count": 25,
   "metadata": {},
   "outputs": [],
   "source": [
    "class StiffnesCoefficientsEstimator:\n",
    "    def __init__(self, A, v_coef, h=0.01):\n",
    "        self.A = A\n",
    "        self.h = h\n",
    "\n",
    "        self.v0 = A ** 3 * v_coef\n",
    "\n",
    "    def compute_energy(self, alpha, mat_func):\n",
    "        deformation_matrix = mat_func(alpha)\n",
    "        basis = [deformation_matrix @ vector for vector in default_basis]\n",
    "\n",
    "        c = SolidSCFComputatioBasis(element_name, 0, self.A, ecutwfc, coef, atomic_weight, k, basis)\n",
    "\n",
    "        return rydberg_to_electron_volt(c.run(n_jobs=8))\n",
    "\n",
    "    def compute_B(self):\n",
    "        return eV_Angstrom_to_GPa(1 / (9 * self.v0) * deriv2(0, lambda alpha: self.compute_energy(alpha, DB_mat)))\n",
    "\n",
    "    def compute_C11(self):\n",
    "        return eV_Angstrom_to_GPa(1 / self.v0 * deriv2(0, lambda alpha: self.compute_energy(alpha, DC11_mat)))\n",
    "\n",
    "    def compute_C22(self):\n",
    "        return eV_Angstrom_to_GPa(1 / self.v0 * deriv2(0, lambda alpha: self.compute_energy(alpha, DC22_mat)))\n",
    "\n",
    "    def compute_C33(self):\n",
    "        return eV_Angstrom_to_GPa(1 / self.v0 * deriv2(0, lambda alpha: self.compute_energy(alpha, DC33_mat)))\n",
    "\n",
    "    def compute_C44(self):\n",
    "        return eV_Angstrom_to_GPa(1 / (4 * self.v0) * deriv2(0, lambda alpha: self.compute_energy(alpha, DC44_mat)))\n",
    "\n",
    "    def compute_C55(self):\n",
    "        return eV_Angstrom_to_GPa(1 / (4 * self.v0) * deriv2(0, lambda alpha: self.compute_energy(alpha, DC55_mat)))\n",
    "\n",
    "    def compute_C66(self):\n",
    "        return eV_Angstrom_to_GPa(1 / (4 * self.v0) * deriv2(0, lambda alpha: self.compute_energy(alpha, DC66_mat)))\n",
    "\n",
    "    def compute_C12(self):\n",
    "        return eV_Angstrom_to_GPa(1 / (2 * self.v0) * deriv2(0, lambda alpha: self.compute_energy(alpha, DC11_mat) \\\n",
    "            + self.compute_energy(alpha, DC22_mat) - self.compute_energy(alpha, DC12_mat)))\n",
    "\n",
    "    def compute_C13(self):\n",
    "        return eV_Angstrom_to_GPa(1 / (2 * self.v0) * deriv2(0, lambda alpha: self.compute_energy(alpha, DC11_mat) \\\n",
    "            + self.compute_energy(alpha, DC33_mat) - self.compute_energy(alpha, DC13_mat)))\n",
    "\n",
    "    def compute_C23(self):\n",
    "        return eV_Angstrom_to_GPa(1 / (2 * self.v0) * deriv2(0, lambda alpha: self.compute_energy(alpha, DC22_mat) \\\n",
    "            + self.compute_energy(alpha, DC33_mat) - self.compute_energy(alpha, DC23_mat)))"
   ]
  },
  {
   "cell_type": "markdown",
   "metadata": {},
   "source": [
    "Вычисления констант упругости"
   ]
  },
  {
   "cell_type": "code",
   "execution_count": 26,
   "metadata": {},
   "outputs": [
    {
     "name": "stdout",
     "output_type": "stream",
     "text": [
      "B=17.467551675273324\n",
      "C11=21.51703086202991\n",
      "C22=21.51703086202991\n",
      "C33=21.522210701076425\n",
      "C44=14.045120176757742\n",
      "C55=14.045120176757742\n",
      "C66=14.045120176757742\n",
      "C12=15.31676943563937\n",
      "C13=15.31935935732672\n",
      "C23=15.31935935732672\n"
     ]
    }
   ],
   "source": [
    "estimator = StiffnesCoefficientsEstimator(A, v_coef)\n",
    "\n",
    "B = estimator.compute_B()\n",
    "print(f'{B=}')\n",
    "C11 = estimator.compute_C11()\n",
    "print(f'{C11=}')\n",
    "C22 = estimator.compute_C22()\n",
    "print(f'{C22=}')\n",
    "C33 = estimator.compute_C33()\n",
    "print(f'{C33=}')\n",
    "C44 = estimator.compute_C44()\n",
    "print(f'{C44=}')\n",
    "C55 = estimator.compute_C55()\n",
    "print(f'{C55=}')\n",
    "C66 = estimator.compute_C66()\n",
    "print(f'{C66=}')\n",
    "C12 = estimator.compute_C12()\n",
    "print(f'{C12=}')\n",
    "C13 = estimator.compute_C13()\n",
    "print(f'{C13=}')\n",
    "C23 = estimator.compute_C23()\n",
    "print(f'{C23=}')"
   ]
  },
  {
   "cell_type": "code",
   "execution_count": 27,
   "metadata": {},
   "outputs": [
    {
     "name": "stdout",
     "output_type": "stream",
     "text": [
      " | Величина | Справочное значение | Рассчитанное значение | Абсолютная погрешность | Относительная погрешность |\n",
      "|-|-|-|-|-|\n",
      " | B | 17 | 17.467551675273324 | 0.46755167527332375 | 0.02750303972196022 |\n",
      " | C11 | 21 | 21.51703086202991 | 0.5170308620299089 | 0.02462051723951947 |\n",
      " | C22 | 21 | 21.51703086202991 | 0.5170308620299089 | 0.02462051723951947 |\n",
      " | C33 | 21 | 21.522210701076425 | 0.5222107010764248 | 0.024867176241734512 |\n",
      " | C44 | 14 | 14.045120176757742 | 0.045120176757741604 | 0.0032228697684101144 |\n",
      " | C55 | 14 | 14.045120176757742 | 0.045120176757741604 | 0.0032228697684101144 |\n",
      " | C66 | 14 | 14.045120176757742 | 0.045120176757741604 | 0.0032228697684101144 |\n",
      " | C12 | 15 | 15.31676943563937 | 0.31676943563937066 | 0.021117962375958043 |\n",
      " | C13 | 15 | 15.31935935732672 | 0.3193593573267197 | 0.021290623821781315 |\n",
      " | C23 | 15 | 15.31935935732672 | 0.3193593573267197 | 0.021290623821781315 |\n"
     ]
    }
   ],
   "source": [
    "estimated_values = dict(\n",
    "    B=B,\n",
    "    C11=C11,\n",
    "    C22=C22,\n",
    "    C33=C33,\n",
    "    C44=C44,\n",
    "    C55=C55,\n",
    "    C66=C66,\n",
    "    C12=C12,\n",
    "    C13=C13,\n",
    "    C23=C23,\n",
    ")\n",
    "\n",
    "reference_values = dict(\n",
    "    B=17,\n",
    "    C11=21,\n",
    "    C22=21,\n",
    "    C33=21,\n",
    "    C44=14,\n",
    "    C55=14,\n",
    "    C66=14,\n",
    "    C12=15,\n",
    "    C13=15,\n",
    "    C23=15\n",
    ")\n",
    "\n",
    "def print_row(items):\n",
    "    print('', *items, sep=' | ', end=' |\\n')\n",
    "\n",
    "def print_rule(n):\n",
    "    print('|-' * n + '|')\n",
    "\n",
    "def print_table(reference_values, estimated_values):\n",
    "    cols = ['Величина', 'Справочное значение', 'Рассчитанное значение', 'Абсолютная погрешность', 'Относительная погрешность']\n",
    "    print_row(cols)\n",
    "    print_rule(len(cols))\n",
    "    for key in reference_values:\n",
    "        ref = reference_values[key]\n",
    "        est = estimated_values[key]\n",
    "        print_row([key, ref, est, abs(est-ref), abs(est-ref)/abs(ref)])\n",
    "\n",
    "print_table(reference_values, estimated_values)"
   ]
  },
  {
   "cell_type": "markdown",
   "metadata": {},
   "source": [
    "#### Результаты расчетов\n",
    "\n",
    "После проведения рассчетов получаем следующие результаты:\n",
    "\n",
    " | Величина | Справочное значение | Рассчитанное значение | Абсолютная погрешность | Относительная погрешность |\n",
    "|-|-|-|-|-|\n",
    "| B | 17 | 17.467551675273324 | 0.46755167527332375 | 0.02750303972196022 |\n",
    " | C11 | 21 | 21.51703086202991 | 0.5170308620299089 | 0.02462051723951947 |\n",
    " | C22 | 21 | 21.51703086202991 | 0.5170308620299089 | 0.02462051723951947 |\n",
    " | C33 | 21 | 21.522210701076425 | 0.5222107010764248 | 0.024867176241734512 |\n",
    " | C44 | 14 | 14.045120176757742 | 0.045120176757741604 | 0.0032228697684101144 |\n",
    " | C55 | 14 | 14.045120176757742 | 0.045120176757741604 | 0.0032228697684101144 |\n",
    " | C66 | 14 | 14.045120176757742 | 0.045120176757741604 | 0.0032228697684101144 |\n",
    " | C12 | 15 | 15.31676943563937 | 0.31676943563937066 | 0.021117962375958043 |\n",
    " | C13 | 15 | 15.31935935732672 | 0.3193593573267197 | 0.021290623821781315 |\n",
    " | C23 | 15 | 15.31935935732672 | 0.3193593573267197 | 0.021290623821781315 |\n",
    "\n",
    "Видно, что значения полученные в результате рассчетов отличаются от соответствующих справочных не более чем на 2.5%, что, в принципе, является неплохим результатом, учитывая простоту вычислений.\n",
    "\n",
    "#### Выводы\n",
    "В ходе данной лабораторной работы были рассчитаны константы упругости для кальция (Ca) при помощи квантово-механических расчетах с использованием пакета Quantum Espresso. Полученные результаты совпадают со справочными данными с достаточной степенью точности."
   ]
  },
  {
   "cell_type": "markdown",
   "metadata": {},
   "source": [
    "# Лабораторная работа №4\n",
    "\n",
    "Выполнил студент группы М8О-110M-21 Куликов А. В."
   ]
  },
  {
   "cell_type": "markdown",
   "metadata": {},
   "source": [
    "Необходимо провести идентификацию параметров потенциалов, таким образом чтобы полученный потенциал воспроизводил свойства вашего материала, рассчитанные при помощи квантовомеханических расчётов. Сохраните несколько различных наборов параметров с наименьшим средним квадратичным отклонением."
   ]
  },
  {
   "cell_type": "code",
   "execution_count": 29,
   "metadata": {},
   "outputs": [
    {
     "name": "stdout",
     "output_type": "stream",
     "text": [
      "[[0.         0.         0.        ]\n",
      " [0.         0.08333333 0.08333333]\n",
      " [0.08333333 0.         0.08333333]\n",
      " ...\n",
      " [0.83333333 0.91666667 0.91666667]\n",
      " [0.91666667 0.83333333 0.91666667]\n",
      " [0.91666667 0.91666667 0.83333333]]\n"
     ]
    }
   ],
   "source": [
    "# задаем элементарную ячейку позициями атомов в координатах обычной квадратной решетки\n",
    "unit_cell = np.array([\n",
    "    [0.0, 0.0, 0.0],\n",
    "    [0.0, 0.5, 0.5],\n",
    "    [0.5, 0.0, 0.5],\n",
    "    [0.5, 0.5, 0.0],\n",
    "])\n",
    "\n",
    "# число повторений элементарной ячейки по каждой из осей x, y, z для формирования супер-ячейки, \n",
    "# на которой и будет производиться рассчет\n",
    "repetitions = 6\n",
    "\n",
    "# функция для \"размножения\" ячейки по всемнаправлениям\n",
    "def repeat_cell(cell, repetitions):\n",
    "    return np.vstack([cell + np.array([[i, j, k]]) for i in range(repetitions) \\\n",
    "        for j in range(repetitions) for k in range(repetitions)]) / repetitions\n",
    "\n",
    "super_cell = repeat_cell(unit_cell, repetitions)\n",
    "print(super_cell)"
   ]
  },
  {
   "cell_type": "markdown",
   "metadata": {},
   "source": [
    "Определяем класс, отвечающий за вычисление энергии решетки используя в качестве потенциала RGL-потенциал. Т.к. каждая каждая элементарная ячейка полностью эквивалентна любой другой, рассчет взаимодействий проводится только между каждым 4-х атомов элементарной решетки и всеми остальными атомами в радиусе отсечения. Это позволяет значительно сократить время расчета потенциала."
   ]
  },
  {
   "cell_type": "code",
   "execution_count": 30,
   "metadata": {},
   "outputs": [],
   "source": [
    "class EnergyEstimatorRGLPotentialFast:\n",
    "    def __init__(self, cell, lattice_constant, cutoff, a, xi, p, q, r0, R, D):\n",
    "        self.cell = cell\n",
    "        self.lattice_constant = lattice_constant\n",
    "        self.cutoff = cutoff\n",
    "        self.a = a\n",
    "        self.xi = xi\n",
    "        self.p = p\n",
    "        self.q = q\n",
    "        self.r0 = r0\n",
    "        self.R = R\n",
    "        self.D = D\n",
    "\n",
    "    def __call__(self, matrix):\n",
    "        energy = 0\n",
    "\n",
    "        start_i = 0\n",
    "        end_i = start_i + 4\n",
    "\n",
    "        for i in range(start_i, end_i):\n",
    "            E_A = 0\n",
    "            E_R = 0\n",
    "            for j in range(self.cell.shape[0]):\n",
    "                if i == j:\n",
    "                    continue\n",
    "\n",
    "                d = self.cell[i] - self.cell[j]\n",
    "                direction = matrix @ (np.remainder(d + 0.5, 1) - 0.5)\n",
    "                \n",
    "                r = np.linalg.norm(direction) * self.lattice_constant\n",
    "\n",
    "                if r > self.cutoff:\n",
    "                    continue\n",
    "\n",
    "                z = r / self.r0 - 1\n",
    "\n",
    "                exp = np.exp(-self.p * z)\n",
    "                fc = self.f_c(r)\n",
    "\n",
    "                E_A += fc * self.a * exp\n",
    "\n",
    "                exp = np.exp(-2 * self.q * z)\n",
    "                E_R += fc * (self.xi ** 2) * exp\n",
    "\n",
    "            energy += E_A - np.sqrt(E_R)\n",
    "\n",
    "        return energy / 2\n",
    "\n",
    "    def f_c(self, r):\n",
    "        if r < self.R - self.D:\n",
    "            return 1\n",
    "        elif self.R - self.D <= r and r < self.R + self.D:\n",
    "            return 0.5 * (1 - np.sin(0.5 * np.pi * (r - self.R) / self.D))\n",
    "        else:\n",
    "            return 0"
   ]
  },
  {
   "cell_type": "markdown",
   "metadata": {},
   "source": [
    "Определяем класс для вычисления функции общей ошибки по пяти параметрам: $E_{coh}$, $B$, $C_{11}$, $C_{44}$, $C_{12}$. Ошибкой выступает сумма квадратов относительных погрешностей по этим параметрам."
   ]
  },
  {
   "cell_type": "code",
   "execution_count": 31,
   "metadata": {},
   "outputs": [],
   "source": [
    "class LossFunctionalFast:\n",
    "    def __init__(self, cell, properties):\n",
    "        self.cell = cell\n",
    "        self.R = properties['R']\n",
    "        self.D = properties['D']\n",
    "        self.repetitions = properties['repetitions']\n",
    "        self.lattice_constant = properties['lattice_constant'] * self.repetitions\n",
    "        self.cutoff = properties['cutoff']\n",
    "        self.E_coh = properties['E_coh']\n",
    "        self.B = properties['B']\n",
    "        self.c11 = properties['c11']\n",
    "        self.c12 = properties['c12']\n",
    "        self.c44 = properties['c44']\n",
    "        self.eps = properties['eps']\n",
    "        self.eps_sq = self.eps**2\n",
    "\n",
    "        self.volume = properties['lattice_constant'] ** 3\n",
    "\n",
    "        self.__init_deformation_matrices()\n",
    "\n",
    "    def __init_deformation_matrices(self):\n",
    "        self.matrix = np.array([[1, 0, 0], [0, 1, 0], [0, 0, 1]], dtype=float)\n",
    "\n",
    "        self.DB_mat_minus = DB_mat(-self.eps)\n",
    "        self.DB_mat_plus = DB_mat(self.eps)\n",
    "\n",
    "        self.DC11_mat_minus = DC11_mat(-self.eps)\n",
    "        self.DC11_mat_plus = DC11_mat(self.eps)\n",
    "\n",
    "        self.DC12_mat_minus = DC12_mat(-self.eps)\n",
    "        self.DC12_mat_plus = DC12_mat(self.eps)\n",
    "\n",
    "        self.DC44_mat_minus = DC44_mat(-self.eps)\n",
    "        self.DC44_mat_plus = DC44_mat(self.eps)\n",
    "\n",
    "        self.DC22_mat_minus = DC22_mat(-self.eps)\n",
    "        self.DC22_mat_plus = DC22_mat(self.eps)\n",
    "\n",
    "    def __call__(self, params, print_error_contributions=False):\n",
    "        a, xi, p, q, r0 = params\n",
    "\n",
    "        energy_estimator = EnergyEstimatorRGLPotentialFast(self.cell, self.lattice_constant, \\\n",
    "                            self.cutoff, a, xi, p, q, r0, self.R, self.D)\n",
    "\n",
    "        energy_base = energy_estimator(self.matrix)\n",
    "\n",
    "        energy_b_low = energy_estimator(self.DB_mat_minus)\n",
    "        energy_b_high = energy_estimator(self.DB_mat_plus)\n",
    "\n",
    "        energy_c11_low = energy_estimator(self.DC11_mat_minus)\n",
    "        energy_c11_high = energy_estimator(self.DC11_mat_plus)\n",
    "        \n",
    "        energy_c12_low = energy_estimator(self.DC12_mat_minus)\n",
    "        energy_c12_high = energy_estimator(self.DC12_mat_plus)\n",
    "\n",
    "        energy_c44_low = energy_estimator(self.DC44_mat_minus)\n",
    "        energy_c44_high = energy_estimator(self.DC44_mat_plus)\n",
    "\n",
    "        energy_c22_low = energy_estimator(self.DC22_mat_minus)\n",
    "        energy_c22_high = energy_estimator(self.DC22_mat_plus)\n",
    "\n",
    "        E_coh_cur = energy_base / 4\n",
    "\n",
    "        B_cur = eV_Angstrom_to_GPa((energy_b_low - 2 * energy_base + energy_b_high) \\\n",
    "            / (self.eps_sq * 9 * self.volume))\n",
    "\n",
    "        c11_cur = eV_Angstrom_to_GPa((energy_c11_low - 2 * energy_base + energy_c11_high) \\\n",
    "            / (self.eps_sq * self.volume))\n",
    "            \n",
    "        c44_cur = eV_Angstrom_to_GPa((energy_c44_low - 2 * energy_base + energy_c44_high) \\\n",
    "            / (self.eps_sq * 4 * self.volume))\n",
    "\n",
    "        c12_cur = eV_Angstrom_to_GPa(((energy_c11_low + energy_c22_low - energy_c12_low) \\\n",
    "            - 2 * energy_base + (energy_c11_high + energy_c22_high - energy_c12_high)) \\\n",
    "            / (self.eps_sq * 2 * self.volume))\n",
    "\n",
    "        E_coh_rel_error = ((self.E_coh - E_coh_cur) / abs(self.E_coh))\n",
    "        B_rel_error = ((B - B_cur) / abs(B))\n",
    "        c11_rel_error = ((self.c11 - c11_cur) / abs(self.c11))\n",
    "        c44_rel_error = ((self.c44 - c44_cur) / abs(self.c44))\n",
    "        c12_rel_error = ((self.c12 - c12_cur) / abs(self.c12))\n",
    "\n",
    "        if print_error_contributions:\n",
    "            print('Error contributions: ')\n",
    "            print(f'E_coh relative error: {abs(E_coh_rel_error)}')\n",
    "            print(f'B relative error: {abs(B_rel_error)}')\n",
    "            print(f'C11 relative error: {abs(c11_rel_error)}')\n",
    "            print(f'C44 relative error: {abs(c44_rel_error)}')\n",
    "            print(f'C12 relative error: {abs(c12_rel_error)}')\n",
    "\n",
    "        error = E_coh_rel_error ** 2 + B_rel_error ** 2 \\\n",
    "            + c11_rel_error ** 2 + c44_rel_error ** 2 + c12_rel_error ** 2\n",
    "\n",
    "        return error"
   ]
  },
  {
   "cell_type": "markdown",
   "metadata": {},
   "source": [
    "##### Подбор параметров $R$, $D$, $r_{cutoff}$"
   ]
  },
  {
   "cell_type": "markdown",
   "metadata": {},
   "source": [
    "В описании хода работы указано, что параметры $R$, $D$ и $r_{cutoff}$ потенциала следует подобрать таким образом, чтобы при вычислении потенциала для конкретного атома в зону до отсечения попадали 4-5 ближайших соседей. Для этого посчитаем все возможные расстояния между атомами для заведомо большей (в смысле с большим числом повторений элементарной ячейки) ячейки. "
   ]
  },
  {
   "cell_type": "code",
   "execution_count": 32,
   "metadata": {},
   "outputs": [],
   "source": [
    "def distances(cell, lattice_constant):\n",
    "    dst = set()\n",
    "    min_d = float('inf')\n",
    "    for i, atom1 in enumerate(cell):\n",
    "        for j, atom2 in enumerate(cell):\n",
    "            if i == j:\n",
    "                continue\n",
    "            \n",
    "            d = np.sqrt(((atom1 - atom2) ** 2).sum()) * lattice_constant\n",
    "            if d < min_d:\n",
    "                min_d = d\n",
    "            \n",
    "            dst.add(d)\n",
    "    \n",
    "    return sorted(dst)"
   ]
  },
  {
   "cell_type": "markdown",
   "metadata": {},
   "source": [
    "Среди таких расстояний найдем 5 минимальных. И затем определим минимальное расстояние до 5-го ближайшего соседа. "
   ]
  },
  {
   "cell_type": "code",
   "execution_count": 33,
   "metadata": {},
   "outputs": [
    {
     "name": "stdout",
     "output_type": "stream",
     "text": [
      "\n"
     ]
    },
    {
     "data": {
      "image/png": "[encoded data removed]",
      "text/plain": [
       "<Figure size 1440x144 with 1 Axes>"
      ]
     },
     "metadata": {
      "needs_background": "light"
     },
     "output_type": "display_data"
    }
   ],
   "source": [
    "dists = distances(super_cell, A * repetitions)\n",
    "\n",
    "dists = list(filter(lambda x: x < 10, dists))\n",
    "\n",
    "fig, ax = plt.subplots(figsize=(20, 2))\n",
    "\n",
    "ax.plot(dists, np.full(len(dists), 0), 'b.')\n",
    "ax.xaxis.set_ticks(np.linspace(0.0, 10, 41))\n",
    "print()"
   ]
  },
  {
   "cell_type": "markdown",
   "metadata": {},
   "source": [
    "Видно, что 5-й ближайший сосед находится на расстоянии чуть меньшем, чем 8.75 ангстрем. Отметим это расстояние вертикальной линией. В графическом калькуляторе Desmos построим зависимость отсекающей функции от расстояния, и подберем такие параметры $R$ и $D$, чтобы отсекающая функция была равна 1 везде до расстояния до 5-го ближайшего соседа включительно, а затем начинала плавно уменьшаться к 0. Это достигается при $R=9.2$, $D=0.5$. \n",
    "![Подбор параметров для отсекающей функции](cutoff_function.png)\n",
    "\n",
    "$r_{cutoff}$, в свою очередь, должен быть таким, чтобы отсекающая функция могла быть вычислялась везде, до тех пор, пока ее значение не равно 0. Поэтому примем $r_cutoff=9.7$"
   ]
  },
  {
   "cell_type": "markdown",
   "metadata": {},
   "source": [
    "Посчитаем новое необходимое число повторений элементарной ячеки, чтобы ячейка удовлетворяла следующему условию:\n",
    "- Необходимо чтобы при расчётах все пары атомов взаимодействовали только единожды, то есть чтобы из всех периодических образов какого либо атома, только один из образов находился внутри радиуса отсечения для любого другого атома.\n",
    "Этого можно добиться повторив элементарную ячейку несколько раз во всех направлениях, таким образом чтобы длина стороны ячейки была больше чем удвоенный радиус отсечения."
   ]
  },
  {
   "cell_type": "code",
   "execution_count": 34,
   "metadata": {},
   "outputs": [
    {
     "name": "stdout",
     "output_type": "stream",
     "text": [
      "Приблизительное расстояние до 5-го ближайшего соседа: fifth_atom_distance=8.75\n",
      "Необходимое число повторений решетки по каждому направлению: repetitions=4\n"
     ]
    }
   ],
   "source": [
    "# расстояние до 5-го соседа\n",
    "fifth_atom_distance = 8.75\n",
    "print(f'Приблизительное расстояние до 5-го ближайшего соседа: {fifth_atom_distance=}')\n",
    "\n",
    "repetitions = int(np.ceil((np.ceil(fifth_atom_distance) * 2) / A))\n",
    "\n",
    "print(f'Необходимое число повторений решетки по каждому направлению: {repetitions=}')"
   ]
  },
  {
   "cell_type": "markdown",
   "metadata": {},
   "source": [
    "Заполнение параметров и переформирование супер-ячейки, чтобы она стала достаточной для рассчета"
   ]
  },
  {
   "cell_type": "code",
   "execution_count": 35,
   "metadata": {},
   "outputs": [
    {
     "name": "stdout",
     "output_type": "stream",
     "text": [
      "Параметры функционала ошибки: {'R': 9.2, 'D': 0.5, 'lattice_constant': 5.5215175034904, 'repetitions': 4, 'cutoff': 9.7, 'E_coh': -1.8948998559969046, 'B': 17.467551675273324, 'c11': 21.51703086202991, 'c12': 15.31676943563937, 'c44': 14.045120176757742, 'eps': 0.01}\n"
     ]
    }
   ],
   "source": [
    "R = 9.2\n",
    "D = 0.5\n",
    "properties = dict(\n",
    "    R = R,\n",
    "    D = D,\n",
    "    lattice_constant=A,\n",
    "    repetitions=repetitions,\n",
    "    cutoff=9.7,\n",
    "    E_coh=e_coh,\n",
    "    B=B,\n",
    "    c11=C11,\n",
    "    c12=C12,\n",
    "    c44=C44,\n",
    "    eps=0.01,\n",
    ")\n",
    "print(f'Параметры функционала ошибки: {properties}')\n",
    "\n",
    "# генерируем решетку для рассчетов\n",
    "super_cell = repeat_cell(unit_cell, repetitions)"
   ]
  },
  {
   "cell_type": "markdown",
   "metadata": {},
   "source": [
    "Функция ошибки для таких сложных задач является много экстремальной, поэтому чтобы обеспечить хоть какую-то сходимость алгоритма минимизации, и найти минимум приближенный к глобальному, сделаем несколько пробных вычислений функции ошибки в случайных точках, удовлетворяющих ограничениям. Рассчет функции ошибки в пробных точек произведем параллельно с использованием библиотеки multiprocessing чтобы не ждать целую вечность."
   ]
  },
  {
   "cell_type": "code",
   "execution_count": 36,
   "metadata": {},
   "outputs": [
    {
     "name": "stdout",
     "output_type": "stream",
     "text": [
      "Ограниечения:\n",
      "a в диапазоне [0.01, 1]\n",
      "xi в диапазоне [0.5, 5]\n",
      "p в диапазоне [5, 40]\n",
      "q в диапазоне [0.5, 10]\n",
      "r0 в диапазоне [3.7090873457003606, 4.099517592616189]\n"
     ]
    }
   ],
   "source": [
    "import multiprocessing as mp\n",
    "import scipy.optimize as opt\n",
    "\n",
    "loss = LossFunctionalFast(super_cell, properties)\n",
    "\n",
    "bounds=[\n",
    "    (0.01, 1),\n",
    "    (0.5, 5),\n",
    "    (5, 40),\n",
    "    (0.5, 10),\n",
    "    (offset(dists[0], -5), offset(dists[0], 5)),\n",
    "]\n",
    "\n",
    "print(f'Ограниечения:')\n",
    "for param, (lb, ub) in zip(['a', 'xi', 'p', 'q', 'r0'], bounds):\n",
    "    print(f'{param} в диапазоне [{lb}, {ub}]')\n"
   ]
  },
  {
   "cell_type": "code",
   "execution_count": 37,
   "metadata": {},
   "outputs": [],
   "source": [
    "n_runs = 10000\n",
    "\n",
    "def probe(i):\n",
    "    np.random.seed(i * 100)\n",
    "    p0 = [np.random.uniform(b[0], b[1]) for b in bounds]\n",
    "    result = loss(p0)\n",
    "\n",
    "    return [p0, result]\n",
    "\n",
    "pool = mp.Pool(mp.cpu_count())\n",
    "probes = pool.map(probe, range(n_runs))"
   ]
  },
  {
   "cell_type": "markdown",
   "metadata": {},
   "source": [
    "Из пробных точек выберем 5 лучших, примем их за стартовые точки для процесса минимизации. "
   ]
  },
  {
   "cell_type": "code",
   "execution_count": 38,
   "metadata": {},
   "outputs": [
    {
     "name": "stdout",
     "output_type": "stream",
     "text": [
      "[[0.02947972474814642, 1.0439503786495572, 21.255703791329225, 3.0034782201033257, 3.8581304158024206], 0.09377299726998124]\n",
      "[[0.053000414538041, 1.3703526389895917, 21.20872982838568, 3.381640196724222, 3.7885048498295704], 0.16399403708401833]\n",
      "[[0.1191024903096587, 1.1213580118277675, 9.529154943394406, 1.5146487862739626, 3.756422242262451], 0.2335232487994656]\n",
      "[[0.064903603405191, 0.8267380813141361, 13.220343314825794, 2.848563106506863, 3.8176454557224373], 0.28713000290235885]\n",
      "[[0.04648131989134369, 1.3070399966728647, 33.6432370984248, 3.7365452884883594, 3.7499741037451586], 0.30226367007017646]\n",
      "[[0.06436550588849463, 1.2493076724144077, 11.335904961154077, 2.934855555660642, 4.0920604186261995], 0.3065321803062768]\n",
      "[[0.0253071519502509, 1.1250223143720879, 25.406032212875562, 3.423034886493334, 3.8292811569078973], 0.30794979713318615]\n",
      "[[0.09810444439514447, 0.9964891569804875, 11.050741531863942, 3.279844066504304, 3.825342628529984], 0.35733329014427334]\n"
     ]
    }
   ],
   "source": [
    "n_best_probes = 8\n",
    "best_probes = sorted(probes, key=lambda p: p[1])[:n_best_probes]\n",
    "for r in best_probes:\n",
    "    print(r)\n",
    "    \n",
    "start_points = list(map(lambda p: p[0], best_probes))"
   ]
  },
  {
   "cell_type": "markdown",
   "metadata": {},
   "source": [
    "Процесс минимизации будем проводить только из стартовых точек. Минимизацию, опять же, будем производить параллельно."
   ]
  },
  {
   "cell_type": "code",
   "execution_count": 39,
   "metadata": {},
   "outputs": [],
   "source": [
    "def optimize(p0):\n",
    "    # result = opt.minimize(loss, p0, method='Nelder-Mead', bounds=bounds)\n",
    "    # result = opt.minimize(loss, p0, method='Nelder-Mead')\n",
    "    result = opt.minimize(loss, p0, method='trust-constr', options=dict(initial_tr_radius=0.1))\n",
    "    # result = opt.minimize(loss, p0, method='trust-constr', options=dict(initial_tr_radius=0.1), bounds=bounds)\n",
    "    # result = opt.minimize(loss, p0, method='Nelder-Mead')\n",
    "    # result = opt.minimize(loss, p0, method='Nelder-Mead', options={'maxiter': 10000})\n",
    "\n",
    "    return [p0, result.fun, result.x]\n",
    "\n",
    "pool = mp.Pool(mp.cpu_count())\n",
    "optimization_results = pool.map(optimize, start_points)"
   ]
  },
  {
   "cell_type": "markdown",
   "metadata": {},
   "source": [
    "Вывод результатов параметрической идентификации"
   ]
  },
  {
   "cell_type": "code",
   "execution_count": 43,
   "metadata": {},
   "outputs": [
    {
     "name": "stdout",
     "output_type": "stream",
     "text": [
      "p0: [0.09810444439514447, 0.9964891569804875, 11.050741531863942, 3.279844066504304, 3.825342628529984], loss: 0.05475086590692157, params: a=0.7045896063729512, xi=1.8230697762455041, p=11.90594446432864, q=1.9535836912086555, r0=3.173915253315052\n",
      "p0: [0.1191024903096587, 1.1213580118277675, 9.529154943394406, 1.5146487862739626, 3.756422242262451], loss: 0.054750873202900445, params: a=2.248254366623619, xi=2.2055348494683717, p=10.742893327088325, q=1.7629819585742672, r0=2.8644831039756555\n",
      "p0: [0.06436550588849463, 1.2493076724144077, 11.335904961154077, 2.934855555660642, 4.0920604186261995], loss: 0.05475087629043695, params: a=0.5798318225190466, xi=1.7657647758516128, p=12.097582853208621, q=1.9853654089864918, r0=3.225819689058578\n",
      "p0: [0.064903603405191, 0.8267380813141361, 13.220343314825794, 2.848563106506863, 3.8176454557224373], loss: 0.054750885341054475, params: a=0.14049262569583904, xi=1.3992841142676133, p=13.514068150454266, q=2.2180583107400875, r0=3.6038428820562625\n",
      "p0: [0.02947972474814642, 1.0439503786495572, 21.255703791329225, 3.0034782201033257, 3.8581304158024206], loss: 0.05612456002025076, params: a=0.0002648156653491737, xi=0.5320521660908825, p=20.92452148862114, q=3.172847412724713, r0=5.121282035593821\n",
      "p0: [0.053000414538041, 1.3703526389895917, 21.20872982838568, 3.381640196724222, 3.7885048498295704], loss: 0.05978288686632012, params: a=0.000882328096131114, xi=0.6696229780245847, p=20.980581464983437, q=2.9494031522852744, r0=4.712421276113518\n",
      "p0: [0.0253071519502509, 1.1250223143720879, 25.406032212875562, 3.423034886493334, 3.8292811569078973], loss: 0.07918078009791993, params: a=0.0009011655851290243, xi=0.7492409376736243, p=25.3598246896757, q=2.7745564339711084, r0=4.440327401417263\n",
      "p0: [0.04648131989134369, 1.3070399966728647, 33.6432370984248, 3.7365452884883594, 3.7499741037451586], loss: 0.11100139978055559, params: a=0.0004908655396068342, xi=0.7747549598076064, p=33.69442993735706, q=2.7340815743273725, r0=4.288905825273655\n"
     ]
    }
   ],
   "source": [
    "optimization_results = sorted(optimization_results, key=lambda p: p[1])\n",
    "for r in optimization_results:\n",
    "    p0, ls, params = r\n",
    "    a, xi, p, q, r0 = params\n",
    "    params_str = f'{a=}, {xi=}, {p=}, {q=}, {r0=}'\n",
    "    print(f'p0: {p0}, loss: {ls}, params: {params_str}')"
   ]
  },
  {
   "cell_type": "markdown",
   "metadata": {},
   "source": [
    "Таким образом после проведения параметрической идентификации получаем следующие наборы параметров потенциала, при которых потенциал воспроизводит свойства исследуемого материала:\n",
    "\n",
    " | Номер набора параметров | $a$ | $\\xi$ | $p$ | $q$ | $r_{0}$ | Значение функции ошибки | \n",
    "|-|-|-|-|-|-|-|\n",
    "| 1 | 0.7045896063729512 | 1.8230697762455041 | 11.90594446432864 | 1.9535836912086555 | 3.173915253315052 | 0.05475086590692157 |\n",
    "| 2 | 2.248254366623619 | 2.2055348494683717 | 10.742893327088325 | 1.7629819585742672 | 2.8644831039756555 | 0.054750873202900445 |\n",
    "| 3 | 0.5798318225190466 | 1.7657647758516128 | 12.097582853208621 | 1.9853654089864918 | 3.225819689058578 | 0.05475087629043695 |\n",
    "| 4 | 0.14049262569583904 | 1.3992841142676133 | 13.514068150454266 | 2.2180583107400875 | 3.6038428820562625 | 0.054750885341054475 |\n",
    "| 5 | 0.0002648156653491737 | 0.5320521660908825 | 20.92452148862114 | 3.172847412724713 | 5.121282035593821 | 0.05612456002025076 |\n",
    "| 6 | 0.000882328096131114 | 0.6696229780245847 | 20.980581464983437 | 2.9494031522852744 | 4.712421276113518 | 0.05978288686632012 |\n",
    "| 7 | 0.0009011655851290243 | 0.7492409376736243 | 25.3598246896757 | 2.7745564339711084 | 4.440327401417263 | 0.07918078009791993 |\n",
    "| 8 | 0.0004908655396068342 | 0.7747549598076064 | 33.69442993735706 | 2.7340815743273725 | 4.288905825273655 | 0.11100139978055559 |"
   ]
  },
  {
   "cell_type": "markdown",
   "metadata": {},
   "source": [
    "Выводим вклад каждой из величин $E_{coh}$, $B$, $C_{11}$, $C_{44}$, $C_{12}$, по которым осуществляется подгонка модели, в значение функционала ошибки при оптимальных параметрах"
   ]
  },
  {
   "cell_type": "code",
   "execution_count": 50,
   "metadata": {},
   "outputs": [
    {
     "name": "stdout",
     "output_type": "stream",
     "text": [
      "Error contributions: \n",
      "E_coh relative error: 0.008762762033759653\n",
      "B relative error: 0.07232097328050888\n",
      "C11 relative error: 0.12927159792179393\n",
      "C44 relative error: 0.15608437729420988\n",
      "C12 relative error: 0.09148922268576759\n",
      "loss: 0.05475086590692157\n"
     ]
    }
   ],
   "source": [
    "best_params = optimization_results[0][2]\n",
    "\n",
    "loss = LossFunctionalFast(super_cell, properties)\n",
    "ls = loss(best_params, print_error_contributions=True)\n",
    "print(f'loss: {ls}')"
   ]
  },
  {
   "cell_type": "markdown",
   "metadata": {},
   "source": [
    "Построение графика RGL-потенциала"
   ]
  },
  {
   "cell_type": "code",
   "execution_count": 51,
   "metadata": {},
   "outputs": [
    {
     "name": "stdout",
     "output_type": "stream",
     "text": [
      "\n"
     ]
    },
    {
     "data": {
      "image/png": "[encoded data removed]",
      "text/plain": [
       "<Figure size 864x720 with 1 Axes>"
      ]
     },
     "metadata": {
      "needs_background": "light"
     },
     "output_type": "display_data"
    }
   ],
   "source": [
    "def f_c(r, R, D):\n",
    "    if r < R - D:\n",
    "        return 1\n",
    "    elif R - D <= r and r < R + D:\n",
    "        return 0.5 * (1 - np.sin(0.5 * np.pi * (r - R) / D))\n",
    "    else:\n",
    "        return 0\n",
    "\n",
    "def rgl_potential_single(r, a, xi, p, q, r0, R, D):\n",
    "        z = r / r0 - 1\n",
    "\n",
    "        exp = np.exp(-p * z)\n",
    "        fc = f_c(r, R, D)\n",
    "\n",
    "        E_A = fc * a * exp\n",
    "\n",
    "        exp = np.exp(-2 * q * z)\n",
    "        E_R = fc * (xi ** 2) * exp\n",
    "\n",
    "        return E_A - np.sqrt(E_R)\n",
    "\n",
    "a, xi, p, q, r0 = best_params\n",
    "\n",
    "r = np.linspace(2.8, 12, 500)\n",
    "rgl = list(map(lambda ri: rgl_potential_single(ri, a, xi, p, q, r0, R, D), r))\n",
    "\n",
    "fig, ax = plt.subplots(figsize=(12, 10))\n",
    "\n",
    "ax.plot(r, rgl, label='rgl potential')\n",
    "ax.set_title('График зависимости RGL потенциала от расстояния между атомами')\n",
    "print()"
   ]
  },
  {
   "cell_type": "markdown",
   "metadata": {},
   "source": [
    "#### Выводы\n",
    "В ходе данной лабораторной работы была проведена параметрическая идентификация RGL-потенциала для кальция (Ca). Полученный потенциал воспроизводит свойства исследуемого материала, рассчитанные с помощью квантовомеха-\n",
    "нических расчётов."
   ]
  }
 ],
 "metadata": {
  "interpreter": {
   "hash": "f60e61c2250dfa806a3e1e09f6c83d8636aaf28c6616e3eb5cbc58e549babe1c"
  },
  "kernelspec": {
   "display_name": "Python 3",
   "language": "python",
   "name": "python3"
  },
  "language_info": {
   "codemirror_mode": {
    "name": "ipython",
    "version": 3
   },
   "file_extension": ".py",
   "mimetype": "text/x-python",
   "name": "python",
   "nbconvert_exporter": "python",
   "pygments_lexer": "ipython3",
   "version": "3.8.8"
  }
 },
 "nbformat": 4,
 "nbformat_minor": 2
}
