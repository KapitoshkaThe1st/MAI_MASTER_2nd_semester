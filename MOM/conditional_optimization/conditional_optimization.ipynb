{
 "cells": [
  {
   "cell_type": "code",
   "execution_count": 8,
   "metadata": {},
   "outputs": [],
   "source": [
    "import numpy as np\n",
    "from scipy.optimize import minimize, Bounds, LinearConstraint\n",
    "import ad"
   ]
  },
  {
   "cell_type": "code",
   "execution_count": 9,
   "metadata": {},
   "outputs": [],
   "source": [
    "def f(x):\n",
    "    x1 = x[0]\n",
    "    x2 = x[1]\n",
    "    return x1 * x1 + x2 * x2\n",
    "\n",
    "def g(x):\n",
    "    x1 = x[0]\n",
    "    x2 = x[1]\n",
    "    return x1 + x2 - 2"
   ]
  },
  {
   "cell_type": "code",
   "execution_count": 10,
   "metadata": {},
   "outputs": [],
   "source": [
    "x0 = np.array([100, 500])\n",
    "f_grad, f_hess = ad.gh(f)"
   ]
  },
  {
   "cell_type": "code",
   "execution_count": 11,
   "metadata": {},
   "outputs": [
    {
     "name": "stdout",
     "output_type": "stream",
     "text": [
      "| niter |f evals|CG iter|  obj func   |tr radius |   opt    |  c viol  | penalty  |CG stop|\n",
      "|-------|-------|-------|-------------|----------|----------|----------|----------|-------|\n",
      "|   1   |   1   |   0   | +2.6000e+05 | 1.00e+00 | 4.00e+02 | 5.98e+02 | 1.00e+00 |   0   |\n",
      "|   2   |   2   |   1   | +2.5898e+05 | 7.00e+00 | 3.99e+02 | 5.97e+02 | 1.00e+00 |   2   |\n",
      "|   3   |   3   |   2   | +2.5192e+05 | 4.90e+01 | 3.93e+02 | 5.89e+02 | 1.00e+00 |   2   |\n",
      "|   4   |   4   |   3   | +2.0521e+05 | 3.43e+02 | 3.52e+02 | 5.34e+02 | 1.00e+00 |   2   |\n",
      "|   5   |   5   |   4   | +1.2706e+04 | 2.40e+03 | 6.06e+01 | 1.45e+02 | 1.00e+00 |   2   |\n",
      "|   6   |   6   |   5   | +2.0000e+00 | 2.40e+03 | 7.99e-15 | 6.39e-14 | 1.00e+00 |   1   |\n",
      "\n",
      "`gtol` termination condition is satisfied.\n",
      "Number of iterations: 6, function evaluations: 6, CG iterations: 5, optimality: 7.99e-15, constraint violation: 6.39e-14, execution time: 0.016 s.\n",
      "res.x=array([1., 1.])\n",
      "trajectory=[array([100., 500.]), array([ 99.85857864, 499.01005051]), array([ 98.86862915, 492.08040405]), array([ 91.93898269, 443.57287886]), array([ 43.43145751, 104.02020254]), array([1., 1.])]\n"
     ]
    }
   ],
   "source": [
    "linear_constraint = LinearConstraint([1, 1], [2], [2])\n",
    "trajectory=[]\n",
    "res = minimize(f, x0, method='trust-constr', jac=f_grad, hess=f_hess, \n",
    "    constraints=linear_constraint, options={'verbose': 3}, \n",
    "    callback=lambda x, _: trajectory.append(x))\n",
    "\n",
    "print(f'{res.x=}')\n",
    "print(f'{trajectory=}')"
   ]
  },
  {
   "cell_type": "code",
   "execution_count": 12,
   "metadata": {},
   "outputs": [],
   "source": [
    "g_grad, _ = ad.gh(g)\n",
    "equality_constraint = {\n",
    "    'type': 'eq',\n",
    "    'fun': g,\n",
    "    'jac': g_grad\n",
    "}"
   ]
  },
  {
   "cell_type": "code",
   "execution_count": 13,
   "metadata": {},
   "outputs": [
    {
     "name": "stdout",
     "output_type": "stream",
     "text": [
      "Optimization terminated successfully    (Exit mode 0)\n",
      "            Current function value: 2.0\n",
      "            Iterations: 4\n",
      "            Function evaluations: 4\n",
      "            Gradient evaluations: 4\n",
      "res.x=array([1., 1.])\n",
      "trajectory=[array([ 201., -199.]), array([-42.67405063,  44.67405063]), array([1., 1.]), array([1., 1.])]\n"
     ]
    }
   ],
   "source": [
    "trajectory=[]\n",
    "res = minimize(f, x0, method='SLSQP', jac=f_grad,\n",
    "    constraints=equality_constraint, \n",
    "    options={'ftol': 1e-9, 'disp': True},\n",
    "    callback=lambda x: trajectory.append(x))\n",
    "print(f'{res.x=}')\n",
    "print(f'{trajectory=}')"
   ]
  },
  {
   "cell_type": "code",
   "execution_count": 14,
   "metadata": {},
   "outputs": [
    {
     "name": "stdout",
     "output_type": "stream",
     "text": [
      "x0=array([100, 500])\n",
      "res.x=array([0.99994474, 1.00005526])\n"
     ]
    }
   ],
   "source": [
    "equality_constraint = {\n",
    "    'type': 'ineq',\n",
    "    'fun': lambda x: np.array([\n",
    "        x[0] + x[1] - 2,\n",
    "        -x[0] - x[1] + 2\n",
    "    ])\n",
    "}\n",
    "\n",
    "trajectory=[]\n",
    "def f_with_trajectory_saving(x):\n",
    "    trajectory.append(x.copy())\n",
    "    return f(x)\n",
    "\n",
    "print(f'{x0=}')\n",
    "res = minimize(f_with_trajectory_saving, x0, method='COBYLA',\n",
    "    constraints=equality_constraint, \n",
    "    options={'disp': True, 'catol': 1e-8})\n",
    "print(f'{res.x=}')\n",
    "# print(f'{trajectory=}')"
   ]
  }
 ],
 "metadata": {
  "interpreter": {
   "hash": "d9a8acb4f733d3596df9f6fac9daff15e014d11794ebc65488d1c191c94698fd"
  },
  "kernelspec": {
   "display_name": "Python 3.8.8 ('base')",
   "language": "python",
   "name": "python3"
  },
  "language_info": {
   "codemirror_mode": {
    "name": "ipython",
    "version": 3
   },
   "file_extension": ".py",
   "mimetype": "text/x-python",
   "name": "python",
   "nbconvert_exporter": "python",
   "pygments_lexer": "ipython3",
   "version": "3.8.8"
  },
  "orig_nbformat": 4
 },
 "nbformat": 4,
 "nbformat_minor": 2
}
